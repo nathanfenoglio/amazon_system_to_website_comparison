{
 "cells": [
  {
   "cell_type": "code",
   "execution_count": null,
   "metadata": {
    "id": "YyeBVaVta_af"
   },
   "outputs": [],
   "source": [
    "import pandas as pd\n",
    "from pandas import DataFrame\n",
    "import csv\n",
    "import numpy as np\n",
    "\n",
    "import datetime\n",
    "import pytz"
   ]
  },
  {
   "cell_type": "code",
   "execution_count": null,
   "metadata": {
    "id": "SPPQ_InqbfJv"
   },
   "outputs": [],
   "source": [
    "# if you want to mount google drive to pull files and write files in your cloud storage\n",
    "# from google.colab import drive"
   ]
  },
  {
   "cell_type": "code",
   "execution_count": null,
   "metadata": {
    "id": "Jes3Th9ob82c"
   },
   "outputs": [],
   "source": [
    "# if you want to mount google drive to pull files and write files in your cloud storage\n",
    "# drive.mount('/content/gdrive')"
   ]
  },
  {
   "cell_type": "code",
   "execution_count": null,
   "metadata": {
    "id": "ffJCVRoYb085"
   },
   "outputs": [],
   "source": [
    "# if you want to mount google drive to pull files and write files in your cloud storage\n",
    "path_to_this_dir = \"/content/gdrive/MyDrive/Colab Notebooks/my_projects/big_papa_as400_to_website_comparison/\""
   ]
  },
  {
   "cell_type": "code",
   "execution_count": null,
   "metadata": {
    "id": "-E72GEzpf2FU"
   },
   "outputs": [],
   "source": [
    "# df_papa_as_400 = pd.read_csv(path_to_this_dir + \"as_400.csv\") # if you want to mount google drive to pull files and write files in your cloud storage \n",
    "df_papa_as_400 = pd.read_csv(\"as_400.csv\")"
   ]
  },
  {
   "cell_type": "code",
   "execution_count": null,
   "metadata": {
    "colab": {
     "base_uri": "https://localhost:8080/"
    },
    "executionInfo": {
     "elapsed": 17,
     "status": "ok",
     "timestamp": 1683313577678,
     "user": {
      "displayName": "nathan fenoglio",
      "userId": "13879668938846553689"
     },
     "user_tz": 300
    },
    "id": "-KzZ6Ji5gmhj",
    "outputId": "bd579749-c677-4b92-a8cc-bfd873afa217"
   },
   "outputs": [],
   "source": [
    "print(df_papa_as_400.shape)\n",
    "df_papa_as_400.info()"
   ]
  },
  {
   "cell_type": "code",
   "execution_count": null,
   "metadata": {
    "colab": {
     "base_uri": "https://localhost:8080/",
     "height": 206
    },
    "executionInfo": {
     "elapsed": 16,
     "status": "ok",
     "timestamp": 1683313577678,
     "user": {
      "displayName": "nathan fenoglio",
      "userId": "13879668938846553689"
     },
     "user_tz": 300
    },
    "id": "P3PQFIwkl6Up",
    "outputId": "3b48be87-87e4-46bd-9fba-f3a806b1dbae"
   },
   "outputs": [],
   "source": [
    "df_papa_as_400.head()"
   ]
  },
  {
   "cell_type": "code",
   "execution_count": null,
   "metadata": {
    "id": "Qnon3TE2gzly"
   },
   "outputs": [],
   "source": [
    "# df_papa_website = pd.read_csv(path_to_this_dir + \"website.csv\") # if you want to mount google drive to pull files and write files in your cloud storage\n",
    "df_papa_website = pd.read_csv(\"website.csv\")"
   ]
  },
  {
   "cell_type": "code",
   "execution_count": null,
   "metadata": {
    "colab": {
     "base_uri": "https://localhost:8080/",
     "height": 942
    },
    "executionInfo": {
     "elapsed": 15,
     "status": "ok",
     "timestamp": 1683313577678,
     "user": {
      "displayName": "nathan fenoglio",
      "userId": "13879668938846553689"
     },
     "user_tz": 300
    },
    "id": "gJlZieYoGz8L",
    "outputId": "8b941aec-cd4f-4a47-843a-879a6482fe56"
   },
   "outputs": [],
   "source": [
    "df_papa_website.head()"
   ]
  },
  {
   "cell_type": "code",
   "execution_count": null,
   "metadata": {
    "colab": {
     "base_uri": "https://localhost:8080/"
    },
    "executionInfo": {
     "elapsed": 15,
     "status": "ok",
     "timestamp": 1683313577678,
     "user": {
      "displayName": "nathan fenoglio",
      "userId": "13879668938846553689"
     },
     "user_tz": 300
    },
    "id": "UP9J2tn_g7aP",
    "outputId": "21add679-03b8-4c38-ca8a-275156edaf6e"
   },
   "outputs": [],
   "source": [
    "print(df_papa_website.shape)\n",
    "df_papa_website.info()"
   ]
  },
  {
   "cell_type": "code",
   "execution_count": null,
   "metadata": {
    "id": "MXf96IckmVdk"
   },
   "outputs": [],
   "source": [
    "# renaming columns\n",
    "df_papa_website = df_papa_website.rename(columns={'Order ID': 'amz_order_num',\n",
    "                                                  'Order Place Date': 'order_place_date',\n",
    "                                                  'Required Ship Date': 'req_ship_date',\n",
    "                                                  'Ship Method': 'ship_method',\n",
    "                                                  'Tracking ID': 'tracking_id'})"
   ]
  },
  {
   "cell_type": "code",
   "execution_count": null,
   "metadata": {
    "id": "mgnfHghzufWv"
   },
   "outputs": [],
   "source": [
    "# renaming columns\n",
    "df_papa_as_400 = df_papa_as_400.rename(columns={df_papa_as_400.columns[0]: 'tst_order_num', \n",
    "                                                df_papa_as_400.columns[1]: 'SOLD_TO',\n",
    "                                                df_papa_as_400.columns[2]: 'STATUS',\n",
    "                                                df_papa_as_400.columns[3]: 'RM',\n",
    "                                                df_papa_as_400.columns[4]: 'RD',\n",
    "                                                df_papa_as_400.columns[5]: 'RY', \n",
    "                                                df_papa_as_400.columns[6]: 'amz_order_num',\n",
    "                                                df_papa_as_400.columns[7]: 'ASN',\n",
    "                                                df_papa_as_400.columns[8]: 'location'})"
   ]
  },
  {
   "cell_type": "code",
   "execution_count": null,
   "metadata": {
    "colab": {
     "base_uri": "https://localhost:8080/"
    },
    "executionInfo": {
     "elapsed": 14,
     "status": "ok",
     "timestamp": 1683313577680,
     "user": {
      "displayName": "nathan fenoglio",
      "userId": "13879668938846553689"
     },
     "user_tz": 300
    },
    "id": "sHOAvx1IuWss",
    "outputId": "30c55299-7db2-4052-e120-83253308985e"
   },
   "outputs": [],
   "source": [
    "as_400_amz_order_arr = df_papa_as_400['amz_order_num'].to_numpy()\n",
    "# there was 11 characters of whitespace in the as400 amazon order #s that needed to ditch\n",
    "for index, order_num in enumerate(as_400_amz_order_arr):\n",
    "  as_400_amz_order_arr[index] = order_num.strip()\n",
    "print(as_400_amz_order_arr)"
   ]
  },
  {
   "cell_type": "code",
   "execution_count": null,
   "metadata": {
    "colab": {
     "base_uri": "https://localhost:8080/",
     "height": 250
    },
    "executionInfo": {
     "elapsed": 12,
     "status": "ok",
     "timestamp": 1683313577680,
     "user": {
      "displayName": "nathan fenoglio",
      "userId": "13879668938846553689"
     },
     "user_tz": 300
    },
    "id": "XLamTpVKKBOr",
    "outputId": "ef33cb31-3b31-4cbc-f684-735da5e9bc8a"
   },
   "outputs": [],
   "source": [
    "# adding origin column since combining as400 orders and website orders to be able to distinguish where they came from\n",
    "df_papa_as_400['origin'] = 'as400'\n",
    "df_papa_as_400.head()"
   ]
  },
  {
   "cell_type": "code",
   "execution_count": null,
   "metadata": {
    "colab": {
     "base_uri": "https://localhost:8080/",
     "height": 942
    },
    "executionInfo": {
     "elapsed": 12,
     "status": "ok",
     "timestamp": 1683313577680,
     "user": {
      "displayName": "nathan fenoglio",
      "userId": "13879668938846553689"
     },
     "user_tz": 300
    },
    "id": "LKwi6aaCKplW",
    "outputId": "3fd4eecf-6faa-434f-99bc-303a75d3073f"
   },
   "outputs": [],
   "source": [
    "# adding origin column since combining as400 orders and website orders to be able to distinguish where they came from\n",
    "df_papa_website['origin'] = 'website'\n",
    "df_papa_website.head()"
   ]
  },
  {
   "cell_type": "code",
   "execution_count": null,
   "metadata": {
    "colab": {
     "base_uri": "https://localhost:8080/",
     "height": 250
    },
    "executionInfo": {
     "elapsed": 12,
     "status": "ok",
     "timestamp": 1683313577681,
     "user": {
      "displayName": "nathan fenoglio",
      "userId": "13879668938846553689"
     },
     "user_tz": 300
    },
    "id": "NYOWRpyKKPQk",
    "outputId": "f6b3cd79-ef11-40f9-b7e2-69dc2b653cb2"
   },
   "outputs": [],
   "source": [
    "# drop all of the columns that you don't care about \n",
    "df_papa_website.drop(columns=['Order Status',\n",
    "                              'Warehouse Code',\n",
    "                              'Ship Method Code',\n",
    "                              'Ship To Name',\n",
    "                              'Ship To Address Line 1',\n",
    "                              'Ship To Address Line 2',\n",
    "                              'Ship To Address Line 3',\n",
    "                              'Ship To City',\n",
    "                              'Ship To State',\n",
    "                              'Ship To ZIP Code',\n",
    "                              'Ship To Country',\n",
    "                              'Phone Number',\n",
    "                              'Is it Gift?',\n",
    "                              'Item Cost',\n",
    "                              'SKU',\n",
    "                              'ASIN',\n",
    "                              'Item Title',\n",
    "                              'Item Quantity',\n",
    "                              'Gift Message',\n",
    "                              'Shipped Date'], axis=1, inplace=True)\n",
    "df_papa_website.head()"
   ]
  },
  {
   "cell_type": "code",
   "execution_count": null,
   "metadata": {
    "colab": {
     "base_uri": "https://localhost:8080/",
     "height": 206
    },
    "executionInfo": {
     "elapsed": 407,
     "status": "ok",
     "timestamp": 1683313578076,
     "user": {
      "displayName": "nathan fenoglio",
      "userId": "13879668938846553689"
     },
     "user_tz": 300
    },
    "id": "7IiIPLeoL_4O",
    "outputId": "d90d6c60-8f79-4924-daec-1e49edcd9cb4"
   },
   "outputs": [],
   "source": [
    "# drop the columns that you don't care about\n",
    "df_papa_as_400.drop(columns=['SOLD_TO',\n",
    "                             'RM',\n",
    "                             'RD',\n",
    "                             'RY'], axis=1, inplace=True)\n",
    "df_papa_as_400.head()"
   ]
  },
  {
   "cell_type": "code",
   "execution_count": null,
   "metadata": {
    "colab": {
     "base_uri": "https://localhost:8080/",
     "height": 270
    },
    "executionInfo": {
     "elapsed": 10,
     "status": "ok",
     "timestamp": 1683313578076,
     "user": {
      "displayName": "nathan fenoglio",
      "userId": "13879668938846553689"
     },
     "user_tz": 300
    },
    "id": "p28th4zlONZ8",
    "outputId": "bf661540-04cb-4d7c-dc44-a45cc885355d"
   },
   "outputs": [],
   "source": [
    "# combining the as400 and website dataframes into one new dataframe\n",
    "df_altogether = pd.concat([df_papa_as_400, df_papa_website], axis=0)\n",
    "df_altogether.head()"
   ]
  },
  {
   "cell_type": "code",
   "execution_count": null,
   "metadata": {
    "colab": {
     "base_uri": "https://localhost:8080/",
     "height": 661
    },
    "executionInfo": {
     "elapsed": 9,
     "status": "ok",
     "timestamp": 1683313578076,
     "user": {
      "displayName": "nathan fenoglio",
      "userId": "13879668938846553689"
     },
     "user_tz": 300
    },
    "id": "zAAMNopmOj7M",
    "outputId": "34baae9c-ebeb-407c-fb92-e30c581f2a43"
   },
   "outputs": [],
   "source": [
    "df_altogether.head(-10)"
   ]
  },
  {
   "cell_type": "code",
   "execution_count": null,
   "metadata": {
    "id": "12O3t_4QO9Ts"
   },
   "outputs": [],
   "source": [
    "# counting # of occurences of the amazon order # \n",
    "# since both as400 and website are together now, there should be 2 occurrences of each order # if an order is found on both sides\n",
    "order_counts = df_altogether['amz_order_num'].value_counts()\n",
    "order_counts_dict = order_counts.to_dict()\n",
    "# adding the # of times that you find the amazon order # as a column for each order\n",
    "df_altogether['num_occurences'] = df_altogether['amz_order_num'].map(order_counts_dict)"
   ]
  },
  {
   "cell_type": "code",
   "execution_count": null,
   "metadata": {
    "colab": {
     "base_uri": "https://localhost:8080/",
     "height": 488
    },
    "executionInfo": {
     "elapsed": 9,
     "status": "ok",
     "timestamp": 1683313578077,
     "user": {
      "displayName": "nathan fenoglio",
      "userId": "13879668938846553689"
     },
     "user_tz": 300
    },
    "id": "mCzhQ1evS2Ga",
    "outputId": "202295d7-1e50-4fd3-9a7c-7dc918d60366"
   },
   "outputs": [],
   "source": [
    "df_altogether.head(500)"
   ]
  },
  {
   "cell_type": "code",
   "execution_count": null,
   "metadata": {
    "colab": {
     "base_uri": "https://localhost:8080/"
    },
    "executionInfo": {
     "elapsed": 1908,
     "status": "ok",
     "timestamp": 1683313579976,
     "user": {
      "displayName": "nathan fenoglio",
      "userId": "13879668938846553689"
     },
     "user_tz": 300
    },
    "id": "4fe0R1oPTD5J",
    "outputId": "1fd2b246-94c1-414e-ced8-eb4ba13c60cf"
   },
   "outputs": [],
   "source": [
    "# find all of the unmatched orders and save in as400 not on website and website not in as400 lists\n",
    "orders_in_as400_not_on_website = []\n",
    "orders_on_website_not_in_as400 = []\n",
    "for i in range(len(df_altogether)):\n",
    "  if df_altogether.iloc[i].loc['num_occurences'] == 1:\n",
    "    if pd.isna(df_altogether.iloc[i].loc['tst_order_num']): # website orders that are unmatched will have nan for tst_order_num\n",
    "      orders_on_website_not_in_as400.append(df_altogether.iloc[i].loc['amz_order_num'])\n",
    "    else: # if there is a tst_order_num and num_occurences is 1, then the order is found in as400 but not on website\n",
    "      # saving info that you care about: tst_order_num, amz_order_num, STATUS, location\n",
    "      orders_in_as400_not_on_website.append([df_altogether.iloc[i].loc['tst_order_num'], df_altogether.iloc[i].loc['amz_order_num'], df_altogether.iloc[i].loc['STATUS'], df_altogether.iloc[i].loc['location']])\n",
    "      \n",
    "# sorting as400 orders by status to be able to see SH, CN etc altogether\n",
    "# because SH pretty much implies that's why the order is in as400 but not on website because ASN was already sent, but order still in open orders in as400\n",
    "sorted_as_400_list_by_status = sorted(orders_in_as400_not_on_website, key=lambda x: x[2]) # x[2] is the STATUS column\n",
    "print('orders_in_as400_not_on_website')\n",
    "for i in range(len(sorted_as_400_list_by_status)):\n",
    "  print(sorted_as_400_list_by_status)\n",
    "  print(f\"{sorted_as_400_list_by_status[i][0]} {sorted_as_400_list_by_status[i][1]} {sorted_as_400_list_by_status[i][2]} {sorted_as_400_list_by_status[i][3]}\")\n",
    "  \n",
    "print('\\n')\n",
    "print('orders_on_website_not_in_as400')\n",
    "for i in range(len(orders_on_website_not_in_as400)):\n",
    "  print(f\"{orders_on_website_not_in_as400[i]}\")"
   ]
  },
  {
   "cell_type": "code",
   "execution_count": null,
   "metadata": {
    "id": "nWlx94FzMa8o"
   },
   "outputs": [],
   "source": [
    "# write unmatched orders to csv file\n",
    "filename = 'unmatched_orders.csv'\n",
    "with open(filename, 'w') as csvfile:\n",
    "  csvwriter = csv.writer(csvfile)\n",
    "\n",
    "  csvwriter.writerow(['ORDERS FOUND IN AS400 BUT NOT FOUND ON WEBSITE:'])\n",
    "  for order in sorted_as_400_list_by_status:\n",
    "    one_line = []\n",
    "    one_line.append(order[0])\n",
    "    one_line.append(order[1])\n",
    "    one_line.append(order[2])\n",
    "    one_line.append(order[3])\n",
    "\n",
    "    csvwriter.writerow(one_line)\n",
    "\n",
    "  csvwriter.writerow(['\\n'])\n",
    "  csvwriter.writerow(['ORDERS FOUND ON WEBSITE BUT NOT FOUND IN AS400:'])\n",
    "  for order in orders_on_website_not_in_as400:\n",
    "    csvwriter.writerow([order])"
   ]
  },
  {
   "cell_type": "markdown",
   "metadata": {
    "id": "L5hJGY9otLYz"
   },
   "source": [
    "ok found all of the unmatched orders website and as400<br>\n",
    "now find all of the orders that are late on the website and group by plant"
   ]
  },
  {
   "cell_type": "code",
   "execution_count": null,
   "metadata": {
    "id": "GdOLa-bU8s53"
   },
   "outputs": [],
   "source": [
    "# need to continue to check that this is the way Amazon abbreviates months as time proceeds...\n",
    "month_abbreviations_to_digits = {\n",
    "    \"Jan\": \"01\",\n",
    "    \"Feb\": \"02\",\n",
    "    \"Mar\": \"03\",\n",
    "    \"Apr\": \"04\",\n",
    "    \"May\": \"05\",\n",
    "    \"June\": \"06\",\n",
    "    \"July\": \"07\",\n",
    "    \"Aug\": \"08\",\n",
    "    \"Sept\": \"09\",\n",
    "    \"Oct\": \"10\",\n",
    "    \"Nov\": \"11\",\n",
    "    \"Dec\": \"12\"\n",
    "}"
   ]
  },
  {
   "cell_type": "code",
   "execution_count": null,
   "metadata": {
    "colab": {
     "base_uri": "https://localhost:8080/",
     "height": 661
    },
    "executionInfo": {
     "elapsed": 318,
     "status": "ok",
     "timestamp": 1683313579995,
     "user": {
      "displayName": "nathan fenoglio",
      "userId": "13879668938846553689"
     },
     "user_tz": 300
    },
    "id": "xWvduydmuITF",
    "outputId": "854acfb6-526c-49b6-cb8c-dd87f024abcb"
   },
   "outputs": [],
   "source": [
    "# add the order required ship by dates that you will build to the dataframe\n",
    "req_ship_date_diff_format = []\n",
    "for i in range(len(df_altogether)):\n",
    "  if df_altogether.iloc[i].loc['origin'] == 'website':\n",
    "    split_up_one_date = df_altogether.iloc[i].loc['req_ship_date'].split()\n",
    "    split_up_one_date[1] = split_up_one_date[1].replace(',', '') # remove comma after day # \n",
    "    # add leading 0 to day if 1 digit to begin with\n",
    "    if len(split_up_one_date[1]) == 1:\n",
    "      split_up_one_date[1] = \"0\" + split_up_one_date[1]\n",
    "\n",
    "    # build formatted date string convert month abbreviation to 2 digit month\n",
    "    date_to_build = split_up_one_date[2] + \"-\" + month_abbreviations_to_digits[split_up_one_date[0]] + \"-\" + split_up_one_date[1]\n",
    "    req_ship_date_diff_format.append(date_to_build)\n",
    "  else:\n",
    "    req_ship_date_diff_format.append(np.nan)\n",
    "\n",
    "# add formatted dates as new column in dataframe\n",
    "df_altogether['req_ship_date_diff_format'] = req_ship_date_diff_format\n",
    "df_altogether.head(-10)"
   ]
  },
  {
   "cell_type": "code",
   "execution_count": null,
   "metadata": {
    "colab": {
     "base_uri": "https://localhost:8080/"
    },
    "executionInfo": {
     "elapsed": 317,
     "status": "ok",
     "timestamp": 1683313579995,
     "user": {
      "displayName": "nathan fenoglio",
      "userId": "13879668938846553689"
     },
     "user_tz": 300
    },
    "id": "2py6f4Axayhd",
    "outputId": "6c82aea3-0e8d-409d-88bd-e1a2c6d11957"
   },
   "outputs": [],
   "source": [
    "# convert to type string for date comparisons\n",
    "df_altogether['req_ship_date_diff_format'].astype('str')\n",
    "\n",
    "# get today's date\n",
    "today = datetime.datetime.now(pytz.timezone('US/Central'))\n",
    "print(today)\n",
    "# convert to just date in string format\n",
    "today = today.strftime('%Y-%m-%d')\n",
    "print(today)"
   ]
  },
  {
   "cell_type": "code",
   "execution_count": null,
   "metadata": {
    "colab": {
     "base_uri": "https://localhost:8080/"
    },
    "executionInfo": {
     "elapsed": 292,
     "status": "ok",
     "timestamp": 1683313580265,
     "user": {
      "displayName": "nathan fenoglio",
      "userId": "13879668938846553689"
     },
     "user_tz": 300
    },
    "id": "7kurYseieKME",
    "outputId": "cb591e57-096b-4d5f-c289-595888544538"
   },
   "outputs": [],
   "source": [
    "# things that you want with the amazon order # of late orders:\n",
    "# amz_order_num\n",
    "# STATUS (not available from website)\n",
    "# location (not available from website)\n",
    "# order_place_date\n",
    "# ship_method\n",
    "# tracking_id (sometimes available if UPS order)\n",
    "# req_ship_date_diff_format\n",
    "late_orders = []\n",
    "for i in range(len(df_altogether)):\n",
    "  if df_altogether.iloc[i].loc['origin'] == 'website':\n",
    "    if df_altogether.iloc[i].loc['req_ship_date_diff_format'] < today: # should get another list for orders that will be late today...\n",
    "      late_orders.append([df_altogether.iloc[i].loc['amz_order_num'],\n",
    "                          df_altogether.iloc[i].loc['order_place_date'],\n",
    "                          df_altogether.iloc[i].loc['ship_method'],\n",
    "                          df_altogether.iloc[i].loc['tracking_id'],\n",
    "                          df_altogether.iloc[i].loc['req_ship_date_diff_format']])\n",
    "\n",
    "for order in late_orders:\n",
    "  print(order)"
   ]
  },
  {
   "cell_type": "code",
   "execution_count": null,
   "metadata": {
    "colab": {
     "base_uri": "https://localhost:8080/"
    },
    "executionInfo": {
     "elapsed": 5090,
     "status": "ok",
     "timestamp": 1683313585354,
     "user": {
      "displayName": "nathan fenoglio",
      "userId": "13879668938846553689"
     },
     "user_tz": 300
    },
    "id": "FKPoGKo-mJvP",
    "outputId": "84f23e98-23c0-45f1-ce0b-9be5968a14db"
   },
   "outputs": [],
   "source": [
    "# match up late order amazon order # with open order in system and append tst order #\n",
    "for order in late_orders:\n",
    "  for i in range(len(df_papa_as_400)): # only checking as400 orders because the info won't be found in the website orders obviously\n",
    "    if order[0] == df_papa_as_400.iloc[i].loc['amz_order_num']:\n",
    "      order.append(df_papa_as_400.iloc[i].loc['tst_order_num'])\n",
    "      order.append(df_papa_as_400.iloc[i].loc['STATUS'])\n",
    "      order.append(df_papa_as_400.iloc[i].loc['location'])\n",
    "      break;\n",
    "\n",
    "for order in late_orders:\n",
    "  print(order)"
   ]
  },
  {
   "cell_type": "markdown",
   "metadata": {
    "id": "ShbeOhdim9Jn"
   },
   "source": [
    "can group all of the VOC_IMSZY (pallet) orders and then everything left would be UPS orders of some sort unless CEVA is the carrier and that would be a problem that you should notice too "
   ]
  },
  {
   "cell_type": "code",
   "execution_count": null,
   "metadata": {
    "id": "ceaCuVAYfcuj"
   },
   "outputs": [],
   "source": [
    "# split up late orders into pallet orders and UPS orders\n",
    "late_pallet_orders = []\n",
    "late_ups_orders = []\n",
    "for order in late_orders:\n",
    "  if order[2] == \"VOC_IMSZY\":\n",
    "    late_pallet_orders.append(order)\n",
    "  else:\n",
    "    late_ups_orders.append(order)"
   ]
  },
  {
   "cell_type": "code",
   "execution_count": null,
   "metadata": {
    "colab": {
     "base_uri": "https://localhost:8080/"
    },
    "executionInfo": {
     "elapsed": 7,
     "status": "ok",
     "timestamp": 1683313585355,
     "user": {
      "displayName": "nathan fenoglio",
      "userId": "13879668938846553689"
     },
     "user_tz": 300
    },
    "id": "bOAetIBFf7Zl",
    "outputId": "5f5a5411-2ebc-4ed0-ffa7-73f69e847860"
   },
   "outputs": [],
   "source": [
    "print('pallet orders:')\n",
    "for order in late_pallet_orders:\n",
    "  print(order)\n",
    "\n",
    "print('ups orders')\n",
    "for order in late_ups_orders:\n",
    "  print(order)"
   ]
  },
  {
   "cell_type": "code",
   "execution_count": null,
   "metadata": {
    "id": "_uq_6TAAgb5W"
   },
   "outputs": [],
   "source": [
    "# separate late_pallet_orders and late_ups_orders by shipping location\n",
    "# guess that you can just hard code the different locations since plant locations will not change\n",
    "tx_late_pallet_orders = []\n",
    "fl_late_pallet_orders = []\n",
    "pa_late_pallet_orders = []\n",
    "il_late_pallet_orders = []\n",
    "ca_late_pallet_orders = []\n",
    "ninetyeight_late_pallet_orders = []\n",
    "loc_not_found_late_pallet_orders = []\n",
    "\n",
    "tx_late_ups_orders = []\n",
    "fl_late_ups_orders = []\n",
    "pa_late_ups_orders = []\n",
    "il_late_ups_orders = []\n",
    "ca_late_ups_orders = []\n",
    "loc_not_found_late_ups_orders = []\n",
    "\n",
    "for order in late_pallet_orders:\n",
    "  # need to check size of order list 1st because sometimes there was not a matching order to be found and then no location added\n",
    "  # so that would be a separate list of no location matched up orders\n",
    "  if len(order) < 8:\n",
    "    loc_not_found_late_pallet_orders.append(order)\n",
    "  else:\n",
    "    if order[7] == 1:\n",
    "      tx_late_pallet_orders.append(order)\n",
    "    elif order[7] == 31:\n",
    "      fl_late_pallet_orders.append(order)\n",
    "    elif order[7] == 60:\n",
    "      pa_late_pallet_orders.append(order)\n",
    "    elif order[7] == 69:\n",
    "      il_late_pallet_orders.append(order)\n",
    "    elif order[7] == 75:\n",
    "      ca_late_pallet_orders.append(order)\n",
    "    elif order[7] == 98:\n",
    "      ninetyeight_late_pallet_orders.append(order)\n",
    "\n",
    "for order in late_ups_orders:\n",
    "  # need to check size of order list 1st because sometimes there was not a matching order to be found and then no location added\n",
    "  # so that would be a separate list of no location matched up orders\n",
    "  if len(order) < 8:\n",
    "    loc_not_found_late_ups_orders.append(order)\n",
    "  else:\n",
    "    if order[7] == 1:\n",
    "      tx_late_ups_orders.append(order)\n",
    "    elif order[7] == 31:\n",
    "      fl_late_ups_orders.append(order)\n",
    "    elif order[7] == 60:\n",
    "      pa_late_ups_orders.append(order)\n",
    "    elif order[7] == 69:\n",
    "      il_late_ups_orders.append(order)\n",
    "    elif order[7] == 75:\n",
    "      ca_late_ups_orders.append(order)"
   ]
  },
  {
   "cell_type": "code",
   "execution_count": null,
   "metadata": {
    "id": "E6aVsnjz9z6V"
   },
   "outputs": [],
   "source": [
    "# sort all of the late orders by status\n",
    "sorted_ninetyeight_late_pallet_orders = sorted(ninetyeight_late_pallet_orders, key=lambda x: x[6])\n",
    "sorted_tx_late_pallet_orders = sorted(tx_late_pallet_orders, key=lambda x: x[6])\n",
    "sorted_fl_late_pallet_orders = sorted(fl_late_pallet_orders, key=lambda x: x[6])\n",
    "sorted_pa_late_pallet_orders = sorted(pa_late_pallet_orders, key=lambda x: x[6])\n",
    "sorted_il_late_pallet_orders = sorted(il_late_pallet_orders, key=lambda x: x[6])\n",
    "sorted_ca_late_pallet_orders = sorted(ca_late_pallet_orders, key=lambda x: x[6])"
   ]
  },
  {
   "cell_type": "code",
   "execution_count": null,
   "metadata": {
    "colab": {
     "base_uri": "https://localhost:8080/"
    },
    "executionInfo": {
     "elapsed": 5,
     "status": "ok",
     "timestamp": 1683313585355,
     "user": {
      "displayName": "nathan fenoglio",
      "userId": "13879668938846553689"
     },
     "user_tz": 300
    },
    "id": "pX5PVsTrj1hh",
    "outputId": "6689490c-82fd-44fe-81c7-588afa27bd4a"
   },
   "outputs": [],
   "source": [
    "# print all of the late orders out by location\n",
    "print('01 LATE UPS ORDERS:')\n",
    "for order in tx_late_ups_orders:\n",
    "  print(f\"{order[5]} {order[0]} {order[6]} SHIP BY: {order[4]} ORDER PLACED: {order[1]}\")\n",
    "print('\\n********************')\n",
    "print('31 LATE UPS ORDERS:')\n",
    "for order in fl_late_ups_orders:\n",
    "  print(f\"{order[5]} {order[0]} {order[6]} SHIP BY: {order[4]} ORDER PLACED: {order[1]}\")\n",
    "print('\\n********************')\n",
    "print('60 LATE UPS ORDERS:')\n",
    "for order in pa_late_ups_orders:\n",
    "  print(f\"{order[5]} {order[0]} {order[6]} SHIP BY: {order[4]} ORDER PLACED: {order[1]}\")\n",
    "print('\\n********************')\n",
    "print('69 LATE UPS ORDERS:')\n",
    "for order in il_late_ups_orders:\n",
    "  print(f\"{order[5]} {order[0]} {order[6]} SHIP BY: {order[4]} ORDER PLACED: {order[1]}\")\n",
    "print('\\n********************')\n",
    "print('75 LATE UPS ORDERS:')\n",
    "for order in ca_late_ups_orders:\n",
    "  print(f\"{order[5]} {order[0]} {order[6]} SHIP BY: {order[4]} ORDER PLACED: {order[1]}\")\n",
    "print('\\n********************')\n",
    "print('NO LOCATION FOUND LATE UPS ORDERS:')\n",
    "for order in loc_not_found_late_ups_orders:\n",
    "  print(f\"{order[0]} SHIP BY: {order[4]} ORDER PLACED: {order[1]}\")\n",
    "\n",
    "print('\\n********************')\n",
    "print('98 LATE PALLET ORDERS:')\n",
    "for order in sorted_ninetyeight_late_pallet_orders:\n",
    "  print(f\"{order[5]} {order[0]} {order[6]} SHIP BY: {order[4]} ORDER PLACED: {order[1]}\")\n",
    "print('\\n********************')\n",
    "print('01 LATE PALLET ORDERS:')\n",
    "for order in sorted_tx_late_pallet_orders:\n",
    "  print(f\"{order[5]} {order[0]} {order[6]} SHIP BY: {order[4]} ORDER PLACED: {order[1]}\")\n",
    "print('\\n********************')\n",
    "print('31 LATE PALLET ORDERS:')\n",
    "for order in sorted_fl_late_pallet_orders:\n",
    "  print(f\"{order[5]} {order[0]} {order[6]} SHIP BY: {order[4]} ORDER PLACED: {order[1]}\")\n",
    "print('\\n********************')\n",
    "print('60 LATE PALLET ORDERS:')\n",
    "for order in sorted_pa_late_pallet_orders:\n",
    "  print(f\"{order[5]} {order[0]} {order[6]} SHIP BY: {order[4]} ORDER PLACED: {order[1]}\")\n",
    "print('\\n********************')\n",
    "print('69 LATE PALLET ORDERS:')\n",
    "for order in sorted_il_late_pallet_orders:\n",
    "  print(f\"{order[5]} {order[0]} {order[6]} SHIP BY: {order[4]} ORDER PLACED: {order[1]}\")\n",
    "print('\\n********************')\n",
    "print('75 LATE PALLET ORDERS:')\n",
    "for order in sorted_ca_late_pallet_orders:\n",
    "  print(f\"{order[5]} {order[0]} {order[6]} SHIP BY: {order[4]} ORDER PLACED: {order[1]}\")\n",
    "print('\\n********************')\n",
    "print('NO LOCATION FOUND LATE PALLET ORDERS:')\n",
    "for order in loc_not_found_late_pallet_orders:\n",
    "  print(f\"{order[0]} SHIP BY: {order[4]} ORDER PLACED: {order[1]}\")"
   ]
  },
  {
   "cell_type": "code",
   "execution_count": null,
   "metadata": {
    "id": "hHzAl--v0y5r"
   },
   "outputs": [],
   "source": [
    "# write late orders to csv file\n",
    "# filename = path_to_this_dir + 'late_orders.csv' # if you want to mount google drive to pull files and write files in your cloud storage\n",
    "filename = 'late_orders.csv'\n",
    "with open(filename, 'w') as csvfile:\n",
    "  csvwriter = csv.writer(csvfile)\n",
    "\n",
    "  csvwriter.writerow(['01 LATE UPS ORDERS:'])\n",
    "  for order in tx_late_ups_orders:\n",
    "    one_line = []\n",
    "    one_line.append(order[5])\n",
    "    one_line.append(order[0])\n",
    "    one_line.append(order[6])\n",
    "    one_line.append('SHIP BY: ' + order[4])\n",
    "    one_line.append('ORDER PLACED: ' + order[1])\n",
    "\n",
    "    csvwriter.writerow(one_line)\n",
    "  \n",
    "  csvwriter.writerow(['\\n'])\n",
    "  csvwriter.writerow(['31 LATE UPS ORDERS:'])\n",
    "  for order in fl_late_ups_orders:\n",
    "    one_line = []\n",
    "    one_line.append(order[5])\n",
    "    one_line.append(order[0])\n",
    "    one_line.append(order[6])\n",
    "    one_line.append('SHIP BY: ' + order[4])\n",
    "    one_line.append('ORDER PLACED: ' + order[1])\n",
    "\n",
    "    csvwriter.writerow(one_line)\n",
    "\n",
    "  csvwriter.writerow(['\\n'])\n",
    "  csvwriter.writerow(['60 LATE UPS ORDERS:'])\n",
    "  for order in pa_late_ups_orders:\n",
    "    one_line = []\n",
    "    one_line.append(order[5])\n",
    "    one_line.append(order[0])\n",
    "    one_line.append(order[6])\n",
    "    one_line.append('SHIP BY: ' + order[4])\n",
    "    one_line.append('ORDER PLACED: ' + order[1])\n",
    "\n",
    "    csvwriter.writerow(one_line)\n",
    "\n",
    "  csvwriter.writerow(['\\n'])\n",
    "  csvwriter.writerow(['69 LATE UPS ORDERS:'])\n",
    "  for order in il_late_ups_orders:\n",
    "    one_line = []\n",
    "    one_line.append(order[5])\n",
    "    one_line.append(order[0])\n",
    "    one_line.append(order[6])\n",
    "    one_line.append('SHIP BY: ' + order[4])\n",
    "    one_line.append('ORDER PLACED: ' + order[1])\n",
    "\n",
    "    csvwriter.writerow(one_line)\n",
    "\n",
    "  csvwriter.writerow(['\\n'])\n",
    "  csvwriter.writerow(['75 LATE UPS ORDERS:'])\n",
    "  for order in ca_late_ups_orders:\n",
    "    one_line = []\n",
    "    one_line.append(order[5])\n",
    "    one_line.append(order[0])\n",
    "    one_line.append(order[6])\n",
    "    one_line.append('SHIP BY: ' + order[4])\n",
    "    one_line.append('ORDER PLACED: ' + order[1])\n",
    "\n",
    "    csvwriter.writerow(one_line)\n",
    "\n",
    "  csvwriter.writerow(['\\n'])\n",
    "  csvwriter.writerow(['NO LOCATION FOUND LATE UPS ORDERS:'])\n",
    "  for order in loc_not_found_late_ups_orders:\n",
    "    one_line = []\n",
    "    one_line.append(order[0])\n",
    "    one_line.append('SHIP BY: ' + order[4])\n",
    "    one_line.append('ORDER PLACED: ' + order[1])\n",
    "\n",
    "    csvwriter.writerow(one_line)\n",
    "\n",
    "  csvwriter.writerow(['\\n'])\n",
    "  csvwriter.writerow(['98 LATE PALLET ORDERS:'])\n",
    "  for order in sorted_ninetyeight_late_pallet_orders:\n",
    "    one_line = []\n",
    "    one_line.append(order[5])\n",
    "    one_line.append(order[0])\n",
    "    one_line.append(order[6])\n",
    "    one_line.append('SHIP BY: ' + order[4])\n",
    "    one_line.append('ORDER PLACED: ' + order[1])\n",
    "\n",
    "    csvwriter.writerow(one_line)\n",
    "\n",
    "  csvwriter.writerow(['\\n'])\n",
    "  csvwriter.writerow(['01 LATE PALLET ORDERS:'])\n",
    "  for order in sorted_tx_late_pallet_orders:\n",
    "    one_line = []\n",
    "    one_line.append(order[5])\n",
    "    one_line.append(order[0])\n",
    "    one_line.append(order[6])\n",
    "    one_line.append('SHIP BY: ' + order[4])\n",
    "    one_line.append('ORDER PLACED: ' + order[1])\n",
    "\n",
    "    csvwriter.writerow(one_line)\n",
    "\n",
    "  csvwriter.writerow(['\\n'])\n",
    "  csvwriter.writerow(['31 LATE PALLET ORDERS:'])\n",
    "  for order in sorted_fl_late_pallet_orders:\n",
    "    one_line = []\n",
    "    one_line.append(order[5])\n",
    "    one_line.append(order[0])\n",
    "    one_line.append(order[6])\n",
    "    one_line.append('SHIP BY: ' + order[4])\n",
    "    one_line.append('ORDER PLACED: ' + order[1])\n",
    "\n",
    "    csvwriter.writerow(one_line)\n",
    "\n",
    "  csvwriter.writerow(['\\n'])\n",
    "  csvwriter.writerow(['60 LATE PALLET ORDERS:'])\n",
    "  for order in sorted_pa_late_pallet_orders:\n",
    "    one_line = []\n",
    "    one_line.append(order[5])\n",
    "    one_line.append(order[0])\n",
    "    one_line.append(order[6])\n",
    "    one_line.append('SHIP BY: ' + order[4])\n",
    "    one_line.append('ORDER PLACED: ' + order[1])\n",
    "\n",
    "    csvwriter.writerow(one_line)\n",
    "\n",
    "  csvwriter.writerow(['\\n'])\n",
    "  csvwriter.writerow(['69 LATE PALLET ORDERS:'])\n",
    "  for order in sorted_il_late_pallet_orders:\n",
    "    one_line = []\n",
    "    one_line.append(order[5])\n",
    "    one_line.append(order[0])\n",
    "    one_line.append(order[6])\n",
    "    one_line.append('SHIP BY: ' + order[4])\n",
    "    one_line.append('ORDER PLACED: ' + order[1])\n",
    "\n",
    "    csvwriter.writerow(one_line)\n",
    "\n",
    "  csvwriter.writerow(['\\n'])\n",
    "  csvwriter.writerow(['75 LATE PALLET ORDERS:'])\n",
    "  for order in sorted_ca_late_pallet_orders:\n",
    "    one_line = []\n",
    "    one_line.append(order[5])\n",
    "    one_line.append(order[0])\n",
    "    one_line.append(order[6])\n",
    "    one_line.append('SHIP BY: ' + order[4])\n",
    "    one_line.append('ORDER PLACED: ' + order[1])\n",
    "\n",
    "    csvwriter.writerow(one_line)\n",
    "\n",
    "  csvwriter.writerow(['\\n'])\n",
    "  csvwriter.writerow(['NO LOCATION FOUND LATE PALLET ORDERS:'])\n",
    "  for order in loc_not_found_late_pallet_orders:\n",
    "    one_line = []\n",
    "    one_line.append(order[0])\n",
    "    one_line.append('SHIP BY: ' + order[4])\n",
    "    one_line.append('ORDER PLACED: ' + order[1])\n",
    "\n",
    "    csvwriter.writerow(one_line)"
   ]
  }
 ],
 "metadata": {
  "colab": {
   "authorship_tag": "ABX9TyPd2QAEPDWyz23x46lqBNTX",
   "provenance": []
  },
  "kernelspec": {
   "display_name": "Python 3 (ipykernel)",
   "language": "python",
   "name": "python3"
  },
  "language_info": {
   "codemirror_mode": {
    "name": "ipython",
    "version": 3
   },
   "file_extension": ".py",
   "mimetype": "text/x-python",
   "name": "python",
   "nbconvert_exporter": "python",
   "pygments_lexer": "ipython3",
   "version": "3.9.12"
  }
 },
 "nbformat": 4,
 "nbformat_minor": 1
}
